{
  "nbformat": 4,
  "nbformat_minor": 0,
  "metadata": {
    "colab": {
      "provenance": [],
      "authorship_tag": "ABX9TyPPGaF0reGIbSvQS2PdBWeS",
      "include_colab_link": true
    },
    "kernelspec": {
      "name": "python3",
      "display_name": "Python 3"
    },
    "language_info": {
      "name": "python"
    },
    "widgets": {
      "application/vnd.jupyter.widget-state+json": {
        "39f49d91903c4316b24202a606652a35": {
          "model_module": "@jupyter-widgets/controls",
          "model_name": "HBoxModel",
          "model_module_version": "1.5.0",
          "state": {
            "_dom_classes": [],
            "_model_module": "@jupyter-widgets/controls",
            "_model_module_version": "1.5.0",
            "_model_name": "HBoxModel",
            "_view_count": null,
            "_view_module": "@jupyter-widgets/controls",
            "_view_module_version": "1.5.0",
            "_view_name": "HBoxView",
            "box_style": "",
            "children": [
              "IPY_MODEL_61936c29935d4e24b708b3359d924567",
              "IPY_MODEL_0c3ddf85df4648869cb47648138f6f87",
              "IPY_MODEL_33f592beb9c14a0a9f763a64be0be333"
            ],
            "layout": "IPY_MODEL_f8414b1e20f44c7da14d8f4ab0885c68"
          }
        },
        "45decf2444ca43a7812950f8d7e47a86": {
          "model_module": "@jupyter-widgets/controls",
          "model_name": "HBoxModel",
          "model_module_version": "1.5.0",
          "state": {
            "_dom_classes": [],
            "_model_module": "@jupyter-widgets/controls",
            "_model_module_version": "1.5.0",
            "_model_name": "HBoxModel",
            "_view_count": null,
            "_view_module": "@jupyter-widgets/controls",
            "_view_module_version": "1.5.0",
            "_view_name": "HBoxView",
            "box_style": "",
            "children": [
              "IPY_MODEL_19de1f52ac5b4c4eb2cbb90cbfa7e36e",
              "IPY_MODEL_54722aaa4d914d6ab5fa1b39e49e553d",
              "IPY_MODEL_ce237c918e1d4cd189d5a2e682a7ccc8"
            ],
            "layout": "IPY_MODEL_7104467741014743a254d2c01c79af2e"
          }
        },
        "9fa0080d6720497dbf1413ab892c3fcb": {
          "model_module": "@jupyter-widgets/controls",
          "model_name": "HBoxModel",
          "model_module_version": "1.5.0",
          "state": {
            "_dom_classes": [],
            "_model_module": "@jupyter-widgets/controls",
            "_model_module_version": "1.5.0",
            "_model_name": "HBoxModel",
            "_view_count": null,
            "_view_module": "@jupyter-widgets/controls",
            "_view_module_version": "1.5.0",
            "_view_name": "HBoxView",
            "box_style": "",
            "children": [
              "IPY_MODEL_524e310f832b4443952615e0c3625698",
              "IPY_MODEL_c87a2dd8b8ab44eb9bf9df173bc78677",
              "IPY_MODEL_abced2aa2cd446a8b024b4a27ac7aefa"
            ],
            "layout": "IPY_MODEL_336dd257666a433382e5452355f1ae55"
          }
        },
        "1616ed9277af4202af0ee830641237d4": {
          "model_module": "@jupyter-widgets/controls",
          "model_name": "HBoxModel",
          "model_module_version": "1.5.0",
          "state": {
            "_dom_classes": [],
            "_model_module": "@jupyter-widgets/controls",
            "_model_module_version": "1.5.0",
            "_model_name": "HBoxModel",
            "_view_count": null,
            "_view_module": "@jupyter-widgets/controls",
            "_view_module_version": "1.5.0",
            "_view_name": "HBoxView",
            "box_style": "",
            "children": [
              "IPY_MODEL_59ed81bce89145239941cdd3a2233dc9",
              "IPY_MODEL_e6c068a6119645de8cd48d0387c0c8f8",
              "IPY_MODEL_ce22e02d05c84374a6fe2110e5a2dd7c"
            ],
            "layout": "IPY_MODEL_5503496378fe450a9983b00a3274f859"
          }
        },
        "d986fbfb12a84f69ae8c86f95c54f63f": {
          "model_module": "@jupyter-widgets/controls",
          "model_name": "HBoxModel",
          "model_module_version": "1.5.0",
          "state": {
            "_dom_classes": [],
            "_model_module": "@jupyter-widgets/controls",
            "_model_module_version": "1.5.0",
            "_model_name": "HBoxModel",
            "_view_count": null,
            "_view_module": "@jupyter-widgets/controls",
            "_view_module_version": "1.5.0",
            "_view_name": "HBoxView",
            "box_style": "",
            "children": [
              "IPY_MODEL_34dff38251da4906b06756d50c3d83bd",
              "IPY_MODEL_422087983b054cf699f78d71b5111519",
              "IPY_MODEL_810c59c209f54a1a84b4176ad0f88298"
            ],
            "layout": "IPY_MODEL_e2f9c4b063e34b2cac6c0f70ebaf854c"
          }
        }
      }
    }
  },
  "cells": [
    {
      "cell_type": "markdown",
      "metadata": {
        "id": "view-in-github",
        "colab_type": "text"
      },
      "source": [
        "<a href=\"https://colab.research.google.com/github/chenyu313/Colaboratory_note/blob/main/Bert_Note.ipynb\" target=\"_parent\"><img src=\"https://colab.research.google.com/assets/colab-badge.svg\" alt=\"Open In Colab\"/></a>"
      ]
    },
    {
      "cell_type": "markdown",
      "source": [
        "## 模型描述\n",
        "BERT是以自我监督的方式在大量英语数据语料库上进行预训练的transformers模型。这意味着它只在原始文本上进行了预训练，没有人为以任何方式对它们进行标记(这就是为什么它可以使用大量公开可用的数据)，并通过自动过程从这些文本中生成输入和标签。更准确地说，它的预训练有两个目标:\n",
        "* 掩码语言建模(MLM)：以一个句子为例，模型随机掩码输入中15%的单词，然后通过模型运行整个掩码句子，并预测被掩码单词。这与传统的循环神经网络(RNN)不同，传统的递归神经网络通常一个接一个地看到单词，也不同于像GPT这样的自回归模型，它在内部掩盖了未来的标记。它允许模型学习句子的双向表示。\n",
        "\n",
        "* 下一句预测(NSP)：模型在预训练期间连接两个被屏蔽的句子作为输入。有时它们与原文中相邻的句子相对应，有时则相反。然后，该模型必须预测这两个句子是否相互关联。\n",
        "\n",
        "通过这种方式，模型学习了英语语言的内部表示，然后可以用来提取对下游任务有用的特征:例如，如果你有一个标记句子的数据集，你可以使用BERT模型产生的特征作为输入来训练一个标准分类器。"
      ],
      "metadata": {
        "id": "fPHTkVxj-nva"
      }
    },
    {
      "cell_type": "markdown",
      "source": [
        "## 训练数据\n",
        "BERT模型是在BookCorpus上进行预训练的，BookCorpus是一个由11038本未出版的书籍和英文维基百科(不包括列表、表格和标题)组成的数据集。\n",
        "\n",
        "### 训练过程\n",
        "* 预处理：文本使用WordPiece进行标记，词汇量为30,000。模型的输入是这样的:\n",
        "\n",
        "[CLS] Sentence A [SEP] Sentence B [SEP]  \n",
        "\n",
        "在0.5的概率下，句子A和句子B对应于原始语料库中的两个连续句子，在其他情况下，它是语料库中的另一个随机句子。注意，这里所说的一个句子是一个连续的文本，通常比一个句子长。唯一的约束是两个“句子”的结果的总长度小于512个标记。  \n",
        "\n",
        "每个句子的掩蔽程序细节如下:  \n",
        "1）15%的tokens被掩盖了。  \n",
        "2）在80%的情况下，掩码令牌被[MASK]取代。  \n",
        "3）在10%的情况下，被屏蔽的令牌会被一个与其所替换的随机令牌(不同)所替换。  \n",
        "4）在剩下的10%的情况下，掩码令牌保持原样。\n",
        "\n",
        "\n",
        "* 预训练：该模型在Pod配置的4个云TPU(共16个TPU芯片)上进行100万步的训练，批大小为256。对于90%的步骤，序列长度被限制为128个标记，其余10%的步骤被限制为512个标记。使用的优化器为Adam，其学习率为1e-4， α1 =0.9 β1 =0.9和α2 =0.999 β2 =0.999，权值衰减为0.01，学习率预热10000步，之后学习率线性衰减。\n",
        "\n",
        "* 评价结果：当对下游任务进行微调时，该模型实现了以下结果\n",
        "![image.png](data:image/png;base64,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)\n"
      ],
      "metadata": {
        "id": "lrn5bqlwIP93"
      }
    },
    {
      "cell_type": "markdown",
      "source": [
        "## 具体使用"
      ],
      "metadata": {
        "id": "7DLGewPnE5Ov"
      }
    },
    {
      "cell_type": "code",
      "execution_count": null,
      "metadata": {
        "id": "i0k8XTJf-gnW"
      },
      "outputs": [],
      "source": [
        "!pip install transformers"
      ]
    },
    {
      "cell_type": "code",
      "source": [
        "from transformers import pipeline\n",
        "unmasker = pipeline('fill-mask', model='bert-base-cased')\n",
        "unmasker(\"Hello I'm a [MASK] model.\")\n"
      ],
      "metadata": {
        "colab": {
          "base_uri": "https://localhost:8080/",
          "height": 459,
          "referenced_widgets": [
            "39f49d91903c4316b24202a606652a35",
            "45decf2444ca43a7812950f8d7e47a86",
            "9fa0080d6720497dbf1413ab892c3fcb",
            "1616ed9277af4202af0ee830641237d4",
            "d986fbfb12a84f69ae8c86f95c54f63f"
          ]
        },
        "id": "BpEqNZ3tFM1f",
        "outputId": "c2e6caf9-3eb2-4210-a59b-e8e7392ee5e9"
      },
      "execution_count": 2,
      "outputs": [
        {
          "output_type": "display_data",
          "data": {
            "text/plain": [
              "Downloading (…)lve/main/config.json:   0%|          | 0.00/570 [00:00<?, ?B/s]"
            ],
            "application/vnd.jupyter.widget-view+json": {
              "version_major": 2,
              "version_minor": 0,
              "model_id": "39f49d91903c4316b24202a606652a35"
            }
          },
          "metadata": {}
        },
        {
          "output_type": "display_data",
          "data": {
            "text/plain": [
              "Downloading pytorch_model.bin:   0%|          | 0.00/436M [00:00<?, ?B/s]"
            ],
            "application/vnd.jupyter.widget-view+json": {
              "version_major": 2,
              "version_minor": 0,
              "model_id": "45decf2444ca43a7812950f8d7e47a86"
            }
          },
          "metadata": {}
        },
        {
          "output_type": "stream",
          "name": "stderr",
          "text": [
            "Some weights of the model checkpoint at bert-base-cased were not used when initializing BertForMaskedLM: ['cls.seq_relationship.weight', 'cls.seq_relationship.bias']\n",
            "- This IS expected if you are initializing BertForMaskedLM from the checkpoint of a model trained on another task or with another architecture (e.g. initializing a BertForSequenceClassification model from a BertForPreTraining model).\n",
            "- This IS NOT expected if you are initializing BertForMaskedLM from the checkpoint of a model that you expect to be exactly identical (initializing a BertForSequenceClassification model from a BertForSequenceClassification model).\n"
          ]
        },
        {
          "output_type": "display_data",
          "data": {
            "text/plain": [
              "Downloading (…)okenizer_config.json:   0%|          | 0.00/29.0 [00:00<?, ?B/s]"
            ],
            "application/vnd.jupyter.widget-view+json": {
              "version_major": 2,
              "version_minor": 0,
              "model_id": "9fa0080d6720497dbf1413ab892c3fcb"
            }
          },
          "metadata": {}
        },
        {
          "output_type": "display_data",
          "data": {
            "text/plain": [
              "Downloading (…)solve/main/vocab.txt:   0%|          | 0.00/213k [00:00<?, ?B/s]"
            ],
            "application/vnd.jupyter.widget-view+json": {
              "version_major": 2,
              "version_minor": 0,
              "model_id": "1616ed9277af4202af0ee830641237d4"
            }
          },
          "metadata": {}
        },
        {
          "output_type": "display_data",
          "data": {
            "text/plain": [
              "Downloading (…)/main/tokenizer.json:   0%|          | 0.00/436k [00:00<?, ?B/s]"
            ],
            "application/vnd.jupyter.widget-view+json": {
              "version_major": 2,
              "version_minor": 0,
              "model_id": "d986fbfb12a84f69ae8c86f95c54f63f"
            }
          },
          "metadata": {}
        },
        {
          "output_type": "execute_result",
          "data": {
            "text/plain": [
              "[{'score': 0.09019182622432709,\n",
              "  'token': 4633,\n",
              "  'token_str': 'fashion',\n",
              "  'sequence': \"Hello I'm a fashion model.\"},\n",
              " {'score': 0.0635000690817833,\n",
              "  'token': 1207,\n",
              "  'token_str': 'new',\n",
              "  'sequence': \"Hello I'm a new model.\"},\n",
              " {'score': 0.06228196248412132,\n",
              "  'token': 2581,\n",
              "  'token_str': 'male',\n",
              "  'sequence': \"Hello I'm a male model.\"},\n",
              " {'score': 0.0441727377474308,\n",
              "  'token': 1848,\n",
              "  'token_str': 'professional',\n",
              "  'sequence': \"Hello I'm a professional model.\"},\n",
              " {'score': 0.03326152265071869,\n",
              "  'token': 7688,\n",
              "  'token_str': 'super',\n",
              "  'sequence': \"Hello I'm a super model.\"}]"
            ]
          },
          "metadata": {},
          "execution_count": 2
        }
      ]
    },
    {
      "cell_type": "markdown",
      "source": [
        "在Pytorch中使用这个模型获取指定的文本"
      ],
      "metadata": {
        "id": "3xLHGWbwGXcP"
      }
    },
    {
      "cell_type": "code",
      "source": [
        "from transformers import BertTokenizer, BertModel\n",
        "tokenizer = BertTokenizer.from_pretrained('bert-base-cased')\n",
        "model = BertModel.from_pretrained(\"bert-base-cased\")\n",
        "text = \"Replace me by any text you'd like.\"\n",
        "encoded_input = tokenizer(text, return_tensors='pt')\n",
        "output = model(**encoded_input)\n"
      ],
      "metadata": {
        "colab": {
          "base_uri": "https://localhost:8080/"
        },
        "id": "TXeUwyovGcWA",
        "outputId": "fc716152-79b6-45fa-b3f8-a2812d4871b2"
      },
      "execution_count": 6,
      "outputs": [
        {
          "output_type": "stream",
          "name": "stderr",
          "text": [
            "Some weights of the model checkpoint at bert-base-cased were not used when initializing BertModel: ['cls.predictions.transform.LayerNorm.bias', 'cls.seq_relationship.bias', 'cls.predictions.decoder.weight', 'cls.predictions.bias', 'cls.predictions.transform.dense.weight', 'cls.predictions.transform.LayerNorm.weight', 'cls.seq_relationship.weight', 'cls.predictions.transform.dense.bias']\n",
            "- This IS expected if you are initializing BertModel from the checkpoint of a model trained on another task or with another architecture (e.g. initializing a BertForSequenceClassification model from a BertForPreTraining model).\n",
            "- This IS NOT expected if you are initializing BertModel from the checkpoint of a model that you expect to be exactly identical (initializing a BertForSequenceClassification model from a BertForSequenceClassification model).\n"
          ]
        }
      ]
    }
  ]
}