{
  "nbformat": 4,
  "nbformat_minor": 0,
  "metadata": {
    "colab": {
      "provenance": [],
      "toc_visible": true,
      "mount_file_id": "176FD0oaK-tAn_U5nmqtNnBdHWGre6AXc",
      "authorship_tag": "ABX9TyNCQrTgEMSEIQdws5Rd1mtQ",
      "include_colab_link": true
    },
    "kernelspec": {
      "name": "python3",
      "display_name": "Python 3"
    },
    "language_info": {
      "name": "python"
    },
    "gpuClass": "standard"
  },
  "cells": [
    {
      "cell_type": "markdown",
      "metadata": {
        "id": "view-in-github",
        "colab_type": "text"
      },
      "source": [
        "<a href=\"https://colab.research.google.com/github/chenyu313/Colaboratory_note/blob/main/colab%E7%9A%84%E4%B8%80%E4%BA%9B%E5%B0%8F%E6%8A%80%E5%B7%A7.ipynb\" target=\"_parent\"><img src=\"https://colab.research.google.com/assets/colab-badge.svg\" alt=\"Open In Colab\"/></a>"
      ]
    },
    {
      "cell_type": "markdown",
      "source": [
        "# 一、初始设置\n",
        "## 1.占用显存\n",
        "首先输入命令，占用1个G的显存，让谷歌认为你没有滥用显存。"
      ],
      "metadata": {
        "id": "g2i6_N7YbfKc"
      }
    },
    {
      "cell_type": "code",
      "source": [
        "import torch\n",
        "a = torch.Tensor([1000, 1000, 1000]).cuda()  # 大约占用 1.1G 显存"
      ],
      "metadata": {
        "id": "wgbCkJRacGzV"
      },
      "execution_count": null,
      "outputs": []
    },
    {
      "cell_type": "markdown",
      "source": [
        "## 2.查看分配给自己的显卡\n"
      ],
      "metadata": {
        "id": "XBDidHVQcZLV"
      }
    },
    {
      "cell_type": "code",
      "source": [
        "!nvidia-smi"
      ],
      "metadata": {
        "colab": {
          "base_uri": "https://localhost:8080/"
        },
        "id": "YI6NHvtXcdjT",
        "outputId": "1c9b6351-c30b-438a-9b51-df6d4d7f40dc"
      },
      "execution_count": null,
      "outputs": [
        {
          "output_type": "stream",
          "name": "stdout",
          "text": [
            "Fri Feb 24 03:22:58 2023       \n",
            "+-----------------------------------------------------------------------------+\n",
            "| NVIDIA-SMI 510.47.03    Driver Version: 510.47.03    CUDA Version: 11.6     |\n",
            "|-------------------------------+----------------------+----------------------+\n",
            "| GPU  Name        Persistence-M| Bus-Id        Disp.A | Volatile Uncorr. ECC |\n",
            "| Fan  Temp  Perf  Pwr:Usage/Cap|         Memory-Usage | GPU-Util  Compute M. |\n",
            "|                               |                      |               MIG M. |\n",
            "|===============================+======================+======================|\n",
            "|   0  Tesla T4            Off  | 00000000:00:04.0 Off |                    0 |\n",
            "| N/A   62C    P0    30W /  70W |    570MiB / 15360MiB |      0%      Default |\n",
            "|                               |                      |                  N/A |\n",
            "+-------------------------------+----------------------+----------------------+\n",
            "                                                                               \n",
            "+-----------------------------------------------------------------------------+\n",
            "| Processes:                                                                  |\n",
            "|  GPU   GI   CI        PID   Type   Process name                  GPU Memory |\n",
            "|        ID   ID                                                   Usage      |\n",
            "|=============================================================================|\n",
            "|    0   N/A  N/A      2391      C                                     567MiB |\n",
            "+-----------------------------------------------------------------------------+\n"
          ]
        }
      ]
    },
    {
      "cell_type": "markdown",
      "source": [
        "# 二、训练部分\n",
        "## 1.挂载google drive\n"
      ],
      "metadata": {
        "id": "bBCM0YxsfKnu"
      }
    },
    {
      "cell_type": "code",
      "source": [
        "from google.colab import drive\n",
        "drive.mount('/content/drive/')"
      ],
      "metadata": {
        "colab": {
          "base_uri": "https://localhost:8080/"
        },
        "id": "H185YubXfZB7",
        "outputId": "d3d7f4c8-baec-4eca-fa55-d2cb825e730b"
      },
      "execution_count": null,
      "outputs": [
        {
          "output_type": "stream",
          "name": "stdout",
          "text": [
            "Mounted at /content/drive/\n"
          ]
        }
      ]
    },
    {
      "cell_type": "markdown",
      "source": [
        "## 2.更改工作目录\n",
        "可以将工作路径更改  \n",
        "import os  \n",
        "os.chdir(\"更改后的路径\")   "
      ],
      "metadata": {
        "id": "mTcYFRsJf73m"
      }
    },
    {
      "cell_type": "markdown",
      "source": [
        "## 3.移动训练数据\n",
        "训练数据最好复制一份到服务器里，训练数据最好复制一份到服务器里。 \n",
        "\n",
        "\n",
        "```\n",
        "!cp /content/drive/具体训练数据地址 /content   \n",
        "!unzip -d /content/centernet\n",
        "```\n",
        "如下： \n",
        "\n",
        "```\n",
        "!cp /content/drive/Shareddrives/deeplearning_data/centernet-pytorch.zip /content \n",
        "!unzip -d /content/centernet\n",
        "```\n",
        "\n",
        "\n",
        "\n",
        "  "
      ],
      "metadata": {
        "id": "6HK6XmwZgO3N"
      }
    },
    {
      "cell_type": "markdown",
      "source": [
        "## 4.开始训练"
      ],
      "metadata": {
        "id": "l2G-kELmhzN9"
      }
    },
    {
      "cell_type": "code",
      "source": [
        "!python train.py"
      ],
      "metadata": {
        "id": "2H2IGv89Hhbs"
      },
      "execution_count": null,
      "outputs": []
    },
    {
      "cell_type": "markdown",
      "source": [
        "## 5.防止断连\n",
        "* 方法一：每60分钟自动运行代码刷新，解除90分钟断开限制. 使用方法：colab页面按F12或者 Ctrl+Shift+I (mac按 Option+Command+I) 在console（控制台） 输入以下代码并回车. 复制以下代码粘贴在浏览器console！！不要关闭浏览器以免失效\n",
        "\n",
        "\n",
        "```\n",
        "function ConnectButton(){\n",
        "    console.log(\"Connect pushed\"); \n",
        "    document.querySelector(\"#connect\").click() \n",
        "}\n",
        "setInterval(ConnectButton,60000);\n",
        "```\n",
        "* 方法二：安装浏览器插件Colab Alive\n",
        "\n",
        "![image.png](data:image/png;base64,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)\n"
      ],
      "metadata": {
        "id": "M2BWxI9gH2VV"
      }
    },
    {
      "cell_type": "markdown",
      "source": [
        "## 6.如何加断点存储模型参数\n",
        "每个epoch都用torch.save()存储一下模型参数。然后重新训练时加载模型选择相应的pth模型参数即可。  \n",
        "由于Colab随时有可能断开连接，在Colab上训练模型的代码必须要有可恢复性（能载入上一次训练的结果）。两个分别实现保存和加载checkpoint的函数附在下方（基于pytorch）。\n",
        "\n",
        "\n",
        "```\n",
        "def save_checkpoint(path: Text,\n",
        "          epoch: int,\n",
        "          modules: Union[nn.Module, Sequence[nn.Module]],\n",
        "          optimizers: Union[opt.Optimizer, Sequence[opt.Optimizer]],\n",
        "          safe_replacement: bool = True):\n",
        "\n",
        "    \"\"\"\n",
        "    保存当前训练状态的检查点，以便可以恢复。\n",
        "\n",
        "    这个检查点函数假设没有用于自动混合精度的学习率调度器或梯度缩放器。\n",
        "    :param path:\n",
        "        检查点文件路径\n",
        "    :param epoch:\n",
        "        当前(已完成)epoch\n",
        "    :param modules:\n",
        "        包含模型或模块对象列表的模块\n",
        "    :param optimizers:\n",
        "        优化器或优化器列表\n",
        "    :param safe_replacement:\n",
        "        保留旧的检查点，直到新的检查点完成\n",
        "    :return:\n",
        "    \"\"\"\n",
        "\n",
        "#此函数可以被称为\n",
        "#save_checkpoint('/my/checkpoint/path.pth', my_epoch, my_module, my_opt)\n",
        "#或\n",
        "#save_checkpoint('/my/checkpoint/path.pth', my_epoch, [my_module1, my_module2], [my_opt1, my_opt2])\n",
        "\n",
        "    if isinstance(modules, nn.Module):\n",
        "        modules = [modules]\n",
        "    if isinstance(optimizers, opt.Optimizer):\n",
        "        optimizers = [optimizers]\n",
        "\n",
        "#待保存的数据字典\n",
        "    data = {\n",
        "        'epoch': epoch,\n",
        "        # Current time (UNIX timestamp)\n",
        "        'time': time.time(),\n",
        "        # State dict for all the modules\n",
        "        'modules': [m.state_dict() for m in modules],\n",
        "        # State dict for all the optimizers\n",
        "        'optimizers': [o.state_dict() for o in optimizers]\n",
        "    }\n",
        "#安全更换旧检查点\n",
        "    temp_file = None\n",
        "    if os.path.exists(path) and safe_replacement:\n",
        "        # There's an old checkpoint. Rename it!\n",
        "        temp_file = path + '.old'\n",
        "        os.rename(path, temp_file)\n",
        "#保存新的检查点\n",
        "    with open(path, 'wb') as fp:\n",
        "        torch.save(data, fp)\n",
        "        # Flush and sync the FS\n",
        "        fp.flush()\n",
        "        os.fsync(fp.fileno())\n",
        "#删除久的检查点\n",
        "    if temp_file is not None:\n",
        "        os.unlink(path + '.old')\n",
        "\n",
        "def load_checkpoint(path: Text,\n",
        "          default_epoch: int,\n",
        "          modules: Union[nn.Module, Sequence[nn.Module]],\n",
        "          optimizers: Union[opt.Optimizer, Sequence[opt.Optimizer]],\n",
        "          verbose: bool = True):\n",
        "    \"\"\"\n",
        "    尝试加载一个检查点以恢复训练。\n",
        "    :param path:\n",
        "        检查点文件的路径\n",
        "    :param default_epoch:\n",
        "        “epoch”的初始值(以防没有快照)\n",
        "    :param modules:\n",
        "        包含模型或模块对象列表的模块。它们被假定停留在同一设备上\n",
        "    :param optimizers:\n",
        "        优化器或优化器列表\n",
        "    :param verbose:\n",
        "        详细模式\n",
        "    :return:\n",
        "        Next epoch\n",
        "    \"\"\"\n",
        "    if isinstance(modules, nn.Module):\n",
        "        modules = [modules]\n",
        "    if isinstance(optimizers, opt.Optimizer):\n",
        "        optimizers = [optimizers]\n",
        "\n",
        "    # 如果有检查点的话\n",
        "    if os.path.exists(path):\n",
        "        # 加载数据\n",
        "        data = torch.load(path, map_location=next(modules[0].parameters()).device)\n",
        "\n",
        "        # 通知用户我们正在加载检查点\n",
        "        if verbose:\n",
        "            print(f\"Loaded checkpoint saved at {datetime.fromtimestamp(data['time']).strftime('%Y-%m-%d %H:%M:%S')}. \"\n",
        "                  f\"Resuming from epoch {data['epoch']}\")\n",
        "\n",
        "        # 所有模块的加载状态\n",
        "        for i, m in enumerate(modules):\n",
        "            modules[i].load_state_dict(data['modules'][i])\n",
        "\n",
        "        # 所有优化器的加载状态\n",
        "        for i, o in enumerate(optimizers):\n",
        "            optimizers[i].load_state_dict(data['optimizers'][i])\n",
        "\n",
        "        # Next epoch\n",
        "        return data['epoch'] + 1\n",
        "    else:\n",
        "        return default_epoch\n",
        "```\n",
        "\n"
      ],
      "metadata": {
        "id": "moKwiz48JoyU"
      }
    },
    {
      "cell_type": "markdown",
      "source": [
        "在主程序train.py正式训练前，添加下面的语句：\n",
        "\n",
        "\n",
        "```\n",
        "if args.resume: # args.resume是命令行输入的参数，用于指示要不要加载上次训练的结果\n",
        "    first_epoch = load_checkpoint(checkpoint_path, first_epoch, net_list, optims_list)\n",
        "```\n",
        "\n"
      ],
      "metadata": {
        "id": "o41LM-8Eq1xM"
      }
    },
    {
      "cell_type": "markdown",
      "source": [
        "在每个epoch训练结束后，保存checkpoint：\n",
        "\n",
        "\n",
        "```\n",
        "# Save checkpoint\n",
        " save_checkpoint(checkpoint_path, epoch, net_list, optims_list)\n",
        "```\n",
        "net_list是需要保存的网络列表，optims_list是需要保存的优化器列表\n",
        "\n",
        "这里没有记录scheduler的列表，如果代码里用到了scheduler，那也要保存scheduler的列表。\n"
      ],
      "metadata": {
        "id": "lo-0T9P4rZR8"
      }
    },
    {
      "cell_type": "markdown",
      "source": [
        "## 参考文章\n",
        "https://zhuanlan.zhihu.com/p/387509768  \n",
        "https://zhuanlan.zhihu.com/p/527663163"
      ],
      "metadata": {
        "id": "S2ySBtO-rmE7"
      }
    },
    {
      "cell_type": "code",
      "source": [],
      "metadata": {
        "id": "Z0F8QK5apFhF"
      },
      "execution_count": null,
      "outputs": []
    }
  ]
}